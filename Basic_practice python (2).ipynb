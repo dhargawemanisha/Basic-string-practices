{
 "cells": [
  {
   "cell_type": "markdown",
   "id": "12d44859",
   "metadata": {},
   "source": [
    "## String"
   ]
  },
  {
   "cell_type": "code",
   "execution_count": 2,
   "id": "0f159487",
   "metadata": {},
   "outputs": [
    {
     "name": "stdout",
     "output_type": "stream",
     "text": [
      "Enter your name:manisha\n",
      "Hello manisha !\n"
     ]
    }
   ],
   "source": [
    "# 1\n",
    "name=input(\"Enter your name:\")\n",
    "print(\"Hello {} !\".format(name))"
   ]
  },
  {
   "cell_type": "code",
   "execution_count": 3,
   "id": "2f62a284",
   "metadata": {},
   "outputs": [
    {
     "name": "stdout",
     "output_type": "stream",
     "text": [
      "count of is 2\n"
     ]
    }
   ],
   "source": [
    "# 2. from below string print count of \"Is\".\n",
    "string=\"He is Amol and she is chaitali\"\n",
    "count=string.count(\"is\")\n",
    "print(\"count of is {}\".format(count))"
   ]
  },
  {
   "cell_type": "code",
   "execution_count": 4,
   "id": "44e79504",
   "metadata": {},
   "outputs": [
    {
     "name": "stdout",
     "output_type": "stream",
     "text": [
      "['Data', 'is', 'new', 'oil']\n"
     ]
    }
   ],
   "source": [
    "#3. from below string split the words by spaces\n",
    "string=\"Data is new oil\"\n",
    "string_1=string.split()\n",
    "print(string_1)"
   ]
  },
  {
   "cell_type": "code",
   "execution_count": 5,
   "id": "87c6a5ec",
   "metadata": {},
   "outputs": [
    {
     "name": "stdout",
     "output_type": "stream",
     "text": [
      "Data=is=new=oil\n"
     ]
    }
   ],
   "source": [
    "#4. Now from below list,join all words by \"=\" and ceate a sentence\n",
    "list=[\"Data\",\"is\",\"new\",\"oil\"]\n",
    "string=\"=\".join(list)\n",
    "print(string)"
   ]
  },
  {
   "cell_type": "code",
   "execution_count": 6,
   "id": "e944f57f",
   "metadata": {},
   "outputs": [
    {
     "name": "stdout",
     "output_type": "stream",
     "text": [
      "I love programming in python\n"
     ]
    }
   ],
   "source": [
    "#5. from below string replace \"java\" with \"python\"\n",
    "sentence=\"I love programming in java\"\n",
    "string=sentence.replace(\"java\",\"python\")\n",
    "print(string)"
   ]
  },
  {
   "cell_type": "code",
   "execution_count": 7,
   "id": "0b128838",
   "metadata": {},
   "outputs": [
    {
     "name": "stdout",
     "output_type": "stream",
     "text": [
      "This is a message with spaces.\n"
     ]
    }
   ],
   "source": [
    "#6. from below string remove(strip) additional space and print it\n",
    "message=\"  This is a message with spaces.  \"\n",
    "strip_message=message.strip()\n",
    "print(strip_message)"
   ]
  },
  {
   "cell_type": "code",
   "execution_count": 9,
   "id": "2fcbc96b",
   "metadata": {},
   "outputs": [
    {
     "name": "stdout",
     "output_type": "stream",
     "text": [
      "10\n"
     ]
    }
   ],
   "source": [
    "# 7 From below string find postion(start index) of \"sample\"\n",
    "sentence = \"This is a sample sentence.\"\n",
    "string=sentence.find(\"sample\")\n",
    "print(string)"
   ]
  },
  {
   "cell_type": "code",
   "execution_count": 11,
   "id": "aa626c22",
   "metadata": {},
   "outputs": [
    {
     "name": "stdout",
     "output_type": "stream",
     "text": [
      "14\n"
     ]
    }
   ],
   "source": [
    "# 8.Given the string \"Python is fun!\", how can you calculate and print its length?\n",
    "text = \"Python is fun!\"\n",
    "length=len(text)\n",
    "print(length)\n"
   ]
  },
  {
   "cell_type": "code",
   "execution_count": 12,
   "id": "86676bba",
   "metadata": {},
   "outputs": [
    {
     "name": "stdout",
     "output_type": "stream",
     "text": [
      "elppaeniP\n"
     ]
    }
   ],
   "source": [
    "# 9. Print below string in reverse order\n",
    "string = \"Pineapple\"\n",
    "string_1=string[::-1]\n",
    "print(string_1)"
   ]
  },
  {
   "cell_type": "code",
   "execution_count": 15,
   "id": "b1849e49",
   "metadata": {},
   "outputs": [
    {
     "name": "stdout",
     "output_type": "stream",
     "text": [
      "Welcome To Python Programming.\n"
     ]
    }
   ],
   "source": [
    "# 10. Given the string \"Welcome to Python Programming.\", how can you capitalize the first letter of each word and print the modified string?\n",
    "text = \"Welcome to Python Programming.\"\n",
    "modified_string=text.title()\n",
    "print(modified_string)"
   ]
  },
  {
   "cell_type": "code",
   "execution_count": 16,
   "id": "27a0e88c",
   "metadata": {},
   "outputs": [
    {
     "name": "stdout",
     "output_type": "stream",
     "text": [
      "DATA IS NEW OIL\n"
     ]
    }
   ],
   "source": [
    "# 11. Convert all letter of string to Upper Case\n",
    "text = \"Data is new oil\"\n",
    "upper_string=text.upper()\n",
    "print(upper_string)"
   ]
  },
  {
   "cell_type": "code",
   "execution_count": 21,
   "id": "56afa5b8",
   "metadata": {},
   "outputs": [
    {
     "name": "stdout",
     "output_type": "stream",
     "text": [
      "I Am Learning Python\n"
     ]
    }
   ],
   "source": [
    "# 12. From below string just convert first lettter of string to upper case\n",
    "text = \"i am learning python\"\n",
    "string =text.title()\n",
    "print(string)"
   ]
  },
  {
   "cell_type": "code",
   "execution_count": 24,
   "id": "8ed62229",
   "metadata": {},
   "outputs": [
    {
     "name": "stdout",
     "output_type": "stream",
     "text": [
      "I am learning python\n"
     ]
    }
   ],
   "source": [
    "text = \"i am learning python\"\n",
    "string =text.capitalize()\n",
    "print(string)"
   ]
  },
  {
   "cell_type": "code",
   "execution_count": 22,
   "id": "b0e6e4a4",
   "metadata": {},
   "outputs": [
    {
     "name": "stdout",
     "output_type": "stream",
     "text": [
      "dAta IS nEw Oil\n"
     ]
    }
   ],
   "source": [
    "# 13. Convert all uppper case to lower and lower case to upper\n",
    "text = \"DaTA is NeW oIL\"\n",
    "modified_string=text.swapcase()\n",
    "print(modified_string)"
   ]
  },
  {
   "cell_type": "code",
   "execution_count": 25,
   "id": "1a745042",
   "metadata": {},
   "outputs": [
    {
     "name": "stdout",
     "output_type": "stream",
     "text": [
      "50\n"
     ]
    }
   ],
   "source": [
    "# 14. print the addition of below 2 strings\n",
    "a = 20\n",
    "b = 30\n",
    "c= a+b\n",
    "print(c)"
   ]
  },
  {
   "cell_type": "code",
   "execution_count": 27,
   "id": "47693164",
   "metadata": {},
   "outputs": [
    {
     "name": "stdout",
     "output_type": "stream",
     "text": [
      "2030\n"
     ]
    }
   ],
   "source": [
    "# 14. print the addition of below 2 strings\n",
    "a = 20\n",
    "b = 30\n",
    "result = str(a) + str(b)\n",
    "print(result)"
   ]
  },
  {
   "cell_type": "code",
   "execution_count": 28,
   "id": "8ab6a2d9",
   "metadata": {},
   "outputs": [
    {
     "name": "stdout",
     "output_type": "stream",
     "text": [
      "50\n"
     ]
    }
   ],
   "source": [
    "#15. print the additiono of below 2 strings\n",
    "a = \"20\"\n",
    "b = \"30\"\n",
    "c=int(a)+ int(b)\n",
    "print(c)"
   ]
  },
  {
   "cell_type": "code",
   "execution_count": 29,
   "id": "9aca579f",
   "metadata": {},
   "outputs": [
    {
     "name": "stdout",
     "output_type": "stream",
     "text": [
      "2030\n"
     ]
    }
   ],
   "source": [
    "a = \"20\"\n",
    "b = \"30\"\n",
    "result = str(a) + str(b)\n",
    "print(result)"
   ]
  },
  {
   "cell_type": "code",
   "execution_count": 1,
   "id": "42b3d37e",
   "metadata": {},
   "outputs": [
    {
     "name": "stdout",
     "output_type": "stream",
     "text": [
      "[1, 2, 3, 44, 5]\n"
     ]
    }
   ],
   "source": [
    "# 16. From below list replace 4 with 44\n",
    "my_list = [1, 2, 3, 4, 5]\n",
    "my_list[3]= 44\n",
    "print(my_list)"
   ]
  },
  {
   "cell_type": "code",
   "execution_count": 3,
   "id": "121c3073",
   "metadata": {},
   "outputs": [],
   "source": [
    "# 17. In below list add(insert) 200 at index 3\n",
    "my_list = [1, 2, 3, 4, 5]\n",
    "my_list.insert(3,200)"
   ]
  },
  {
   "cell_type": "code",
   "execution_count": 4,
   "id": "5acbe57e",
   "metadata": {},
   "outputs": [
    {
     "name": "stdout",
     "output_type": "stream",
     "text": [
      "[1, 2, 3, 200, 4, 5]\n"
     ]
    }
   ],
   "source": [
    "print(my_list)"
   ]
  },
  {
   "cell_type": "code",
   "execution_count": 5,
   "id": "c45f5124",
   "metadata": {},
   "outputs": [],
   "source": [
    "# 18. In below list add new number 66\n",
    "my_list = [1, 2, 3, 4, 5]\n",
    "my_list.append(66)"
   ]
  },
  {
   "cell_type": "code",
   "execution_count": 6,
   "id": "43acaa74",
   "metadata": {},
   "outputs": [
    {
     "name": "stdout",
     "output_type": "stream",
     "text": [
      "[1, 2, 3, 4, 5, 66]\n"
     ]
    }
   ],
   "source": [
    "print(my_list)"
   ]
  },
  {
   "cell_type": "code",
   "execution_count": 7,
   "id": "4ee173b4",
   "metadata": {},
   "outputs": [],
   "source": [
    "# 19 In below list insert new numbers 66,87,99\n",
    "my_list = [1, 2, 3, 4, 5]\n",
    "my_list.insert(2, 66)  \n",
    "my_list.insert(4, 87) \n",
    "my_list.insert(5, 99) "
   ]
  },
  {
   "cell_type": "code",
   "execution_count": 8,
   "id": "f51238bf",
   "metadata": {},
   "outputs": [
    {
     "name": "stdout",
     "output_type": "stream",
     "text": [
      "[1, 2, 66, 3, 87, 99, 4, 5]\n"
     ]
    }
   ],
   "source": [
    "print(my_list)"
   ]
  },
  {
   "cell_type": "code",
   "execution_count": 9,
   "id": "f4257b3d",
   "metadata": {},
   "outputs": [],
   "source": [
    "# 20. from below list remove number 3\n",
    "my_list = [1, 2, 3, 4, 5]\n",
    "my_list.remove(3)"
   ]
  },
  {
   "cell_type": "code",
   "execution_count": 10,
   "id": "42f654c3",
   "metadata": {},
   "outputs": [
    {
     "name": "stdout",
     "output_type": "stream",
     "text": [
      "[1, 2, 4, 5]\n"
     ]
    }
   ],
   "source": [
    "print(my_list)"
   ]
  },
  {
   "cell_type": "code",
   "execution_count": 11,
   "id": "25045b90",
   "metadata": {},
   "outputs": [
    {
     "data": {
      "text/plain": [
       "2"
      ]
     },
     "execution_count": 11,
     "metadata": {},
     "output_type": "execute_result"
    }
   ],
   "source": [
    "# 21. From below list print count of \"cherry\"\n",
    "my_list = [1, 2.5, \"cherry\", 3, \"banana\", 4.0, \"cherry\"]\n",
    "my_list.count(\"cherry\")\n"
   ]
  },
  {
   "cell_type": "code",
   "execution_count": 12,
   "id": "34bd83e2",
   "metadata": {},
   "outputs": [
    {
     "data": {
      "text/plain": [
       "4"
      ]
     },
     "execution_count": 12,
     "metadata": {},
     "output_type": "execute_result"
    }
   ],
   "source": [
    "# 22. From below list print index of \"banana\"\n",
    "my_list = [1, 2.5, \"apple\", 3, \"banana\", 4.0, \"cherry\"]\n",
    "my_list.index(\"banana\")\n"
   ]
  },
  {
   "cell_type": "code",
   "execution_count": 13,
   "id": "6358a803",
   "metadata": {},
   "outputs": [
    {
     "data": {
      "text/plain": [
       "['Pune', 'Delhi', 'Mumbai', 'Indore', 'Jaipur']"
      ]
     },
     "execution_count": 13,
     "metadata": {},
     "output_type": "execute_result"
    }
   ],
   "source": [
    "# 23. From below list remove last item\n",
    "my_list = [\"Pune\",\"Delhi\",\"Mumbai\",\"Indore\",\"Jaipur\",\"Dehradun\"]\n",
    "my_list[:-1]"
   ]
  },
  {
   "cell_type": "code",
   "execution_count": 14,
   "id": "b447a8af",
   "metadata": {},
   "outputs": [],
   "source": [
    "#24. Sort the below list in Alphabetical order\n",
    "my_list = [\"Grapes\",\"Apple\",\"Cherry\",\"Mango\",\"Banana\"]\n",
    "my_list.sort()"
   ]
  },
  {
   "cell_type": "code",
   "execution_count": 15,
   "id": "fd977fbd",
   "metadata": {},
   "outputs": [
    {
     "name": "stdout",
     "output_type": "stream",
     "text": [
      "['Apple', 'Banana', 'Cherry', 'Grapes', 'Mango']\n"
     ]
    }
   ],
   "source": [
    "print(my_list)"
   ]
  },
  {
   "cell_type": "code",
   "execution_count": 16,
   "id": "d77e22a6",
   "metadata": {},
   "outputs": [],
   "source": [
    "# 25. Sort below list in reverse Alphabetical order\n",
    "my_list = [\"Grapes\",\"Apple\",\"Cherry\",\"Mango\",\"Banana\"]\n",
    "my_list.sort(reverse=True)\n"
   ]
  },
  {
   "cell_type": "code",
   "execution_count": 17,
   "id": "80df2bfd",
   "metadata": {},
   "outputs": [
    {
     "name": "stdout",
     "output_type": "stream",
     "text": [
      "['Mango', 'Grapes', 'Cherry', 'Banana', 'Apple']\n"
     ]
    }
   ],
   "source": [
    "print(my_list)"
   ]
  },
  {
   "cell_type": "markdown",
   "id": "28eb0e8f",
   "metadata": {},
   "source": [
    " ### 26. Create a list Named myList that has three elements\n",
    "1.The integer 3\n",

    "2.The string \"Element number two\"\n",

    "3.Another list[\"Last\",\"Element\"]\n",
    "\n",
    "in that order"
   ]
  },
  {
   "cell_type": "code",
   "execution_count": 1,
   "id": "da981658",
   "metadata": {},
   "outputs": [],
   "source": [
    "mylist =[3,\"element number two\",[\"last\",\"element\"]]"
   ]
  },
  {
   "cell_type": "code",
   "execution_count": 2,
   "id": "cb7ff31f",
   "metadata": {},
   "outputs": [
    {
     "name": "stdout",
     "output_type": "stream",
     "text": [
      "3\n"
     ]
    }
   ],
   "source": [
    "### 27. print the third element of the following list\n",
    "l=[1,2,3,4,5,6,7,8,9]\n",
    "print(l[2])"
   ]
  },
  {
   "cell_type": "code",
   "execution_count": 3,
   "id": "6e8ab937",
   "metadata": {},
   "outputs": [
    {
     "name": "stdout",
     "output_type": "stream",
     "text": [
      "['a', 'b', 16]\n"
     ]
    }
   ],
   "source": [
    " # 28. modify th elist element of this list so that its value  is 16. print the modified list so you know the operation was performed successully.\n",
    "listToModify=[\"a\",\"b\",\"sixteen\"]\n",
    "listToModify[-1] = 16\n",
    "print(listToModify)"
   ]
  },
  {
   "cell_type": "code",
   "execution_count": 4,
   "id": "fc31b612",
   "metadata": {},
   "outputs": [
    {
     "name": "stdout",
     "output_type": "stream",
     "text": [
      "8\n"
     ]
    }
   ],
   "source": [
    "# 29. Calculated the length of the following list\n",
    "listToFindLength=[\"this\",\"is\",\"the\",\"list\",\"whose\",\"length\",\"I\",\"want\"]\n",
    "print(len(listToFindLength))"
   ]
  },
  {
   "cell_type": "code",
   "execution_count": 5,
   "id": "29a5c7a6",
   "metadata": {},
   "outputs": [
    {
     "data": {
      "text/plain": [
       "3622"
      ]
     },
     "execution_count": 5,
     "metadata": {},
     "output_type": "execute_result"
    }
   ],
   "source": [
    "#30 . Calculated the sum of the following list\n",
    "\n",
    "intList = [54, 678, 2890]\n",
    "sum(intList)"
   ]
  },
  {
   "cell_type": "code",
   "execution_count": 6,
   "id": "4915236a",
   "metadata": {},
   "outputs": [
    {
     "data": {
      "text/plain": [
       "53245"
      ]
     },
     "execution_count": 6,
     "metadata": {},
     "output_type": "execute_result"
    }
   ],
   "source": [
    "# 31. Find the maxinum value the following list\n",
    "maxlist=[677,53245,234,536,23456,345,23526,3454]\n",
    "max(maxlist)"
   ]
  },
  {
   "cell_type": "code",
   "execution_count": 7,
   "id": "6abc8385",
   "metadata": {},
   "outputs": [
    {
     "data": {
      "text/plain": [
       "134"
      ]
     },
     "execution_count": 7,
     "metadata": {},
     "output_type": "execute_result"
    }
   ],
   "source": [
    "# 32. Find the minimun value the following list\n",
    "minlist=[351,984,169,284,134,467,164]\n",
    "min(minlist)"
   ]
  },
  {
   "cell_type": "code",
   "execution_count": 8,
   "id": "b26d985e",
   "metadata": {},
   "outputs": [
    {
     "name": "stdout",
     "output_type": "stream",
     "text": [
      "[1, 2, 3, 'append mel']\n"
     ]
    }
   ],
   "source": [
    "# 33. Append the string \"append mel\" to the end of the following list. print the list to operation has been completed successfully.\n",
    "listToAppend=[1,2,3]\n",
    "listToAppend.append(\"append mel\")\n",
    "print(listToAppend)"
   ]
  },
  {
   "cell_type": "code",
   "execution_count": null,
   "id": "811b26cc",
   "metadata": {},
   "outputs": [],
   "source": []
  }
 ],
 "metadata": {
  "kernelspec": {
   "display_name": "Python 3 (ipykernel)",
   "language": "python",
   "name": "python3"
  },
  "language_info": {
   "codemirror_mode": {
    "name": "ipython",
    "version": 3
   },
   "file_extension": ".py",
   "mimetype": "text/x-python",
   "name": "python",
   "nbconvert_exporter": "python",
   "pygments_lexer": "ipython3",
   "version": "3.9.12"
  }
 },
 "nbformat": 4,
 "nbformat_minor": 5
}
