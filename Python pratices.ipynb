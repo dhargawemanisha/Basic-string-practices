{
 "cells": [
  {
   "cell_type": "markdown",
   "id": "68ab125b",
   "metadata": {},
   "source": [
    "## Strings:-"
   ]
  },
  {
   "cell_type": "code",
   "execution_count": 1,
   "id": "823dc129",
   "metadata": {},
   "outputs": [],
   "source": [
    "# string in python are surrounded by either single quotation marks, or double quotation marks.\n",
    "# \"India is the same as \"India\""
   ]
  },
  {
   "cell_type": "markdown",
   "id": "33ed731d",
   "metadata": {},
   "source": [
    "## Create a variable containing string"
   ]
  },
  {
   "cell_type": "code",
   "execution_count": 2,
   "id": "27da7e09",
   "metadata": {},
   "outputs": [
    {
     "name": "stdout",
     "output_type": "stream",
     "text": [
      "india\n"
     ]
    }
   ],
   "source": [
    "a=\"india\"\n",
    "print(a)\n"
   ]
  },
  {
   "cell_type": "markdown",
   "id": "7c0fa7d2",
   "metadata": {},
   "source": [
    "## Multiline string: should enclosed within triple single /double quotes\n"
   ]
  },
  {
   "cell_type": "code",
   "execution_count": 3,
   "id": "13bbbdd9",
   "metadata": {},
   "outputs": [
    {
     "name": "stdout",
     "output_type": "stream",
     "text": [
      "this is a multiline string.\n",
      "I am writing this string for demo purpose.\n",
      "you can see it is enclosed within trice double quotes\n"
     ]
    }
   ],
   "source": [
    "a=\"\"\"this is a multiline string.\n",
    "I am writing this string for demo purpose.\n",
    "you can see it is enclosed within trice double quotes\"\"\"\n",
    "print(a)\n",
    "# can notice in result that new line is printed same as it is written"
   ]
  },
  {
   "cell_type": "markdown",
   "id": "cf519808",
   "metadata": {},
   "source": [
    "## SLICING"
   ]
  },
  {
   "cell_type": "code",
   "execution_count": null,
   "id": "9da5620e",
   "metadata": {},
   "outputs": [],
   "source": [
    "# You can slice the string by passing its index\n",
    "# Positive index start from ZERO and goes from left to Rigth\n",
    "# Negative index start from -1 and goes from Rigth to Left\n",
    "# Starting index starts slicing from same index\n",
    "# Ending index ends slicingone step before.\n",
    "# Sytax: String[Start:Stop:Step]\n",
    "# Explin:\n",
    " #   -5   -4  -3  -2  -1  (left to Rigth) \n",
    "     I    N   D   I   A  \n",
    "     0    1   2   3   4  (Rigth to Left)\n",
    "    \n"
   ]
  },
  {
   "cell_type": "code",
   "execution_count": null,
   "id": "17a9b8d6",
   "metadata": {},
   "outputs": [],
   "source": [
    "# Slice string from index  2 to 4\n",
    "# You can notice slicing start from 2(start index) but it ended at 3 insted of 4"
   ]
  },
  {
   "cell_type": "code",
   "execution_count": 4,
   "id": "4e2705c8",
   "metadata": {},
   "outputs": [
    {
     "data": {
      "text/plain": [
       "'di'"
      ]
     },
     "execution_count": 4,
     "metadata": {},
     "output_type": "execute_result"
    }
   ],
   "source": [
    "country=\"India\"\n",
    "country[2:4]"
   ]
  },
  {
   "cell_type": "code",
   "execution_count": 5,
   "id": "e0f5f541",
   "metadata": {},
   "outputs": [
    {
     "data": {
      "text/plain": [
       "'dia'"
      ]
     },
     "execution_count": 5,
     "metadata": {},
     "output_type": "execute_result"
    }
   ],
   "source": [
    "# slice to the End: If end index missing then it will take default=last index\n",
    "country=\"India\"\n",
    "country[2:]"
   ]
  },
  {
   "cell_type": "code",
   "execution_count": 6,
   "id": "3a554388",
   "metadata": {},
   "outputs": [
    {
     "data": {
      "text/plain": [
       "'Indi'"
      ]
     },
     "execution_count": 6,
     "metadata": {},
     "output_type": "execute_result"
    }
   ],
   "source": [
    "# slice from the start: If start index missing it will take default=0\n",
    "country=\"India\"\n",
    "country[:4]"
   ]
  },
  {
   "cell_type": "markdown",
   "id": "536b295f",
   "metadata": {},
   "source": [
    "## Negative indexing"
   ]
  },
  {
   "cell_type": "code",
   "execution_count": 7,
   "id": "ff2b6d41",
   "metadata": {},
   "outputs": [],
   "source": [
    "# you can use negative index in same as we used positive"
   ]
  },
  {
   "cell_type": "code",
   "execution_count": 8,
   "id": "c364d7a2",
   "metadata": {},
   "outputs": [
    {
     "data": {
      "text/plain": [
       "'di'"
      ]
     },
     "execution_count": 8,
     "metadata": {},
     "output_type": "execute_result"
    }
   ],
   "source": [
    "# slice letter di using negative indexing\n",
    "country=\"India\"\n",
    "country[-3:-1]"
   ]
  },
  {
   "cell_type": "markdown",
   "id": "6dbdf26b",
   "metadata": {},
   "source": [
    "## Steps In Slicing"
   ]
  },
  {
   "cell_type": "code",
   "execution_count": null,
   "id": "c0b53fa8",
   "metadata": {},
   "outputs": [],
   "source": [
    "# steps decide the direction of printing for sliced index and how many steps\n",
    "## positive step means left to rigth and negative step means rigth to left\n",
    "## Default step=1, means take a 1 step from left to rigth\n",
    "## step=-2 , means take 2 steps from rigth to left\n",
    "## .Approach should be as following\n",
    "\n",
    "## 1. Start slicing from startindex\n",
    "## 2. End slicing at Endinex-1\n",
    "## 3. After slicing between start and end index check step\n",
    "## 4. Print letter as per step sign and value"
   ]
  },
  {
   "cell_type": "code",
   "execution_count": 9,
   "id": "d7c0c290",
   "metadata": {},
   "outputs": [
    {
     "data": {
      "text/plain": [
       "'HloWrd'"
      ]
     },
     "execution_count": 9,
     "metadata": {},
     "output_type": "execute_result"
    }
   ],
   "source": [
    "# slice with step2: you can notice in result , after \"H\" it took 22 stps in rigth \"l\" and continue to do same\n",
    "\n",
    "string=\"Hello World\"\n",
    "string[0:12:2]"
   ]
  },
  {
   "cell_type": "markdown",
   "id": "7340cc56",
   "metadata": {},
   "source": [
    "## String Concatenation"
   ]
  },
  {
   "cell_type": "code",
   "execution_count": 10,
   "id": "0959210c",
   "metadata": {},
   "outputs": [],
   "source": [
    "# To concatenate , or combine , two strings you can use the + operator\n",
    "# If you  want to add space then use syntax: a+\" \"+b\n"
   ]
  },
  {
   "cell_type": "code",
   "execution_count": 11,
   "id": "e4ac487a",
   "metadata": {},
   "outputs": [
    {
     "name": "stdout",
     "output_type": "stream",
     "text": [
      "HelloWorld\n"
     ]
    }
   ],
   "source": [
    "# without space\n",
    "a=\"Hello\"\n",
    "b=\"World\"\n",
    "c=a+b\n",
    "print(c)"
   ]
  },
  {
   "cell_type": "code",
   "execution_count": 13,
   "id": "fd0dec89",
   "metadata": {},
   "outputs": [
    {
     "name": "stdout",
     "output_type": "stream",
     "text": [
      "Hello World\n"
     ]
    }
   ],
   "source": [
    "# with space\n",
    "a=\"Hello\"\n",
    "b=\"World\"\n",
    "c=a+\" \"+b\n",
    "print(c)"
   ]
  },
  {
   "cell_type": "markdown",
   "id": "37ce1328",
   "metadata": {},
   "source": [
    "## String Format"
   ]
  },
  {
   "cell_type": "code",
   "execution_count": 14,
   "id": "3b97000c",
   "metadata": {},
   "outputs": [],
   "source": [
    "# Format() method takes the arguments in sequence and place them ata placeholder {}.\n",
    "# If inside curly bracket, you are putting 1 like {2} then first passed arguments will get places ata{2}.\n",
    "\n"
   ]
  },
  {
   "cell_type": "code",
   "execution_count": 16,
   "id": "a7a7a326",
   "metadata": {},
   "outputs": [
    {
     "name": "stdout",
     "output_type": "stream",
     "text": [
      "My Name Is Manisha and I am 26 years old \n"
     ]
    }
   ],
   "source": [
    "a=\"My Name Is {} and I am {} years old \".format(\"Manisha\",26)\n",
    "print(a)"
   ]
  },
  {
   "cell_type": "code",
   "execution_count": 18,
   "id": "e66dd241",
   "metadata": {},
   "outputs": [
    {
     "name": "stdout",
     "output_type": "stream",
     "text": [
      "My Name Is 26 and I am Manisha years old\n"
     ]
    }
   ],
   "source": [
    "# Now pass position of passed arguments: You can notice that {1} replaced with 21 and {0} replaced with Rahul\n",
    "# reason index of Rahul=0 and 21=1 in passed arguments\n",
    "a = \"My Name Is {1} and I am {0} years old\".format(\"Manisha\",26)\n",
    "print(a)"
   ]
  },
  {
   "cell_type": "code",
   "execution_count": 20,
   "id": "3fa2ebd9",
   "metadata": {},
   "outputs": [
    {
     "name": "stdout",
     "output_type": "stream",
     "text": [
      "I want to pay 49.95 dollars for 3 pieces of item 567.\n"
     ]
    }
   ],
   "source": [
    "Quantity = 3\n",
    "itemno = 567\n",
    "price = 49.95\n",
    "myorder = \"I want to pay {2} dollars for {0} pieces of item {1}.\"\n",
    "print(myorder.format(Quantity, itemno, price))"
   ]
  },
  {
   "cell_type": "markdown",
   "id": "9ebd3c03",
   "metadata": {},
   "source": [
    "## Commonly used ESCAPE character"
   ]
  },
  {
   "cell_type": "code",
   "execution_count": 21,
   "id": "b60b58f6",
   "metadata": {},
   "outputs": [
    {
     "name": "stdout",
     "output_type": "stream",
     "text": [
      "It's correct.\n"
     ]
    }
   ],
   "source": [
    "# Single Quote\n",
    "string = 'It\\'s correct.'\n",
    "print(string)\n"
   ]
  },
  {
   "cell_type": "code",
   "execution_count": 22,
   "id": "508c2280",
   "metadata": {},
   "outputs": [
    {
     "name": "stdout",
     "output_type": "stream",
     "text": [
      "Lets insert one \\ (backslash).\n"
     ]
    }
   ],
   "source": [
    "# Backslash\n",
    "string = \"Lets insert one \\\\ (backslash).\"\n",
    "print(string)\n"
   ]
  },
  {
   "cell_type": "code",
   "execution_count": 23,
   "id": "9c70e393",
   "metadata": {},
   "outputs": [
    {
     "name": "stdout",
     "output_type": "stream",
     "text": [
      "Hello\n",
      "World!\n"
     ]
    }
   ],
   "source": [
    "# New Line\n",
    "string = \"Hello\\nWorld!\"\n",
    "print(string)\n"
   ]
  },
  {
   "cell_type": "markdown",
   "id": "87f71253",
   "metadata": {},
   "source": [
    "## POPULAR STRING METHODS (10 Steps)"
   ]
  },
  {
   "cell_type": "code",
   "execution_count": 24,
   "id": "18bea0d7",
   "metadata": {},
   "outputs": [],
   "source": [
    "# 1. capitalize(): Convert the first character to upper case"
   ]
  },
  {
   "cell_type": "code",
   "execution_count": 25,
   "id": "589c8672",
   "metadata": {},
   "outputs": [
    {
     "name": "stdout",
     "output_type": "stream",
     "text": [
      "This will convert first character to upper case \n"
     ]
    }
   ],
   "source": [
    "string =\"this will convert first character to upper case \"\n",
    "x=string.capitalize()\n",
    "print(x)"
   ]
  },
  {
   "cell_type": "code",
   "execution_count": 26,
   "id": "b663b2cf",
   "metadata": {},
   "outputs": [],
   "source": [
    "# 2. center(): Returns a centered string after padding it with the specified character"
   ]
  },
  {
   "cell_type": "code",
   "execution_count": 28,
   "id": "f4e567c1",
   "metadata": {},
   "outputs": [
    {
     "name": "stdout",
     "output_type": "stream",
     "text": [
      "############India#############\n"
     ]
    }
   ],
   "source": [
    "string=\"India\"\n",
    "x=string.center(30,\"#\")\n",
    "print(x)"
   ]
  },
  {
   "cell_type": "code",
   "execution_count": 29,
   "id": "6059a5a1",
   "metadata": {},
   "outputs": [],
   "source": [
    "# 3. count(): Returns the number of times a specified value occurs in a string"
   ]
  },
  {
   "cell_type": "code",
   "execution_count": 31,
   "id": "72382506",
   "metadata": {},
   "outputs": [
    {
     "name": "stdout",
     "output_type": "stream",
     "text": [
      "2\n"
     ]
    }
   ],
   "source": [
    "string=\"Take left and then take first left\"\n",
    "x=string.count(\"left\")\n",
    "print(x)"
   ]
  },
  {
   "cell_type": "code",
   "execution_count": 32,
   "id": "67659d14",
   "metadata": {},
   "outputs": [],
   "source": [
    "# 4. lower(): Converts a string into lower case"
   ]
  },
  {
   "cell_type": "code",
   "execution_count": 33,
   "id": "f124ba2b",
   "metadata": {},
   "outputs": [
    {
     "name": "stdout",
     "output_type": "stream",
     "text": [
      "manisha is good girl\n"
     ]
    }
   ],
   "source": [
    "string=\"MANISHA IS GOOD GIRL\"\n",
    "lower_str=string.lower()\n",
    "print(lower_str)"
   ]
  },
  {
   "cell_type": "code",
   "execution_count": 35,
   "id": "af0dd742",
   "metadata": {},
   "outputs": [],
   "source": [
    "# 5. upper(): Converts a string into upper case\n"
   ]
  },
  {
   "cell_type": "code",
   "execution_count": 37,
   "id": "da33d8b4",
   "metadata": {},
   "outputs": [
    {
     "name": "stdout",
     "output_type": "stream",
     "text": [
      "MANISHA IS GOOD GIRL\n"
     ]
    }
   ],
   "source": [
    "string=\"manisha is good girl\"\n",
    "upper_str=string.upper()\n",
    "print(upper_str)"
   ]
  },
  {
   "cell_type": "code",
   "execution_count": 38,
   "id": "f46a2af2",
   "metadata": {},
   "outputs": [],
   "source": [
    "# 6 replace(): replace spacified value with given value\n"
   ]
  },
  {
   "cell_type": "code",
   "execution_count": 39,
   "id": "7509f634",
   "metadata": {},
   "outputs": [
    {
     "name": "stdout",
     "output_type": "stream",
     "text": [
      "I love mango\n"
     ]
    }
   ],
   "source": [
    "string=\"I love apple\"\n",
    "x=string.replace(\"apple\",\"mango\")\n",
    "print(x)"
   ]
  },
  {
   "cell_type": "code",
   "execution_count": 40,
   "id": "51382373",
   "metadata": {},
   "outputs": [],
   "source": [
    "# 7. title(): Converts the first character of each word to upper case"
   ]
  },
  {
   "cell_type": "code",
   "execution_count": 41,
   "id": "13242324",
   "metadata": {},
   "outputs": [
    {
     "name": "stdout",
     "output_type": "stream",
     "text": [
      "Manish Is Good Girl\n"
     ]
    }
   ],
   "source": [
    "string=\"Manish is good girl\"\n",
    "x=string.title()\n",
    "print(x)"
   ]
  },
  {
   "cell_type": "code",
   "execution_count": 42,
   "id": "942dd346",
   "metadata": {},
   "outputs": [],
   "source": [
    "# 8. swapcase(): Swaps cases, lower case becomes upper case and vice versa"
   ]
  },
  {
   "cell_type": "code",
   "execution_count": 44,
   "id": "46440fef",
   "metadata": {},
   "outputs": [
    {
     "name": "stdout",
     "output_type": "stream",
     "text": [
      "manisha IS GOOD GIRL\n"
     ]
    }
   ],
   "source": [
    "string=\"MANISHA is good girl\"\n",
    "x=string.swapcase()\n",
    "print(x)"
   ]
  },
  {
   "cell_type": "code",
   "execution_count": 45,
   "id": "a34ddf86",
   "metadata": {},
   "outputs": [],
   "source": [
    "# 9. index(): it returns inedx of given value "
   ]
  },
  {
   "cell_type": "code",
   "execution_count": 46,
   "id": "39673d6e",
   "metadata": {},
   "outputs": [
    {
     "name": "stdout",
     "output_type": "stream",
     "text": [
      "8\n"
     ]
    }
   ],
   "source": [
    "string=\"MANISHA is good girl\"\n",
    "x=string.index(\"is\")\n",
    "print(x)"
   ]
  },
  {
   "cell_type": "code",
   "execution_count": 47,
   "id": "cd3fa293",
   "metadata": {},
   "outputs": [],
   "source": [
    "# 10. split(): it break string from given value and creates list\n",
    "\n"
   ]
  },
  {
   "cell_type": "code",
   "execution_count": 48,
   "id": "d9a37e35",
   "metadata": {},
   "outputs": [
    {
     "name": "stdout",
     "output_type": "stream",
     "text": [
      "['Manisha', 'is', 'good', 'girl']\n"
     ]
    }
   ],
   "source": [
    "# split the string using space\n",
    "string=\"Manisha is good girl\"\n",
    "split_string=string.split(\" \")\n",
    "print(split_string)"
   ]
  },
  {
   "cell_type": "markdown",
   "id": "ca8c9afb",
   "metadata": {},
   "source": [
    "## STRING METHODS:"
   ]
  },
  {
   "cell_type": "code",
   "execution_count": null,
   "id": "9f908694",
   "metadata": {},
   "outputs": [],
   "source": [
    "# 1 capitalize(): convers the first character to upper case\n",
    "# 2 center(): Returns  a centered string\n",
    "# 3 count(): Returns the number of times a specified value occurs in a string\n",
    "# 4 lower(): converts a string into lower case\n",
    "# 5 upper(): converts a string into upper case\n",
    "# 6 replace(): replace specified value with given value\n",
    "# 7 title(): Converts the first character of each word to upper case\n",
    "# 8 swapcase(): swaps cases , lower case becomes upper case and vice versa\n",
    "# 9 index(): it returns index of given value\n",
    "# 10 split(): it breaks string from given value and creates list\n",
    "\n"
   ]
  },
  {
   "cell_type": "code",
   "execution_count": 50,
   "id": "6f4342b9",
   "metadata": {},
   "outputs": [
    {
     "name": "stdout",
     "output_type": "stream",
     "text": [
      "15\n"
     ]
    }
   ],
   "source": [
    "# 1. write a python program  to calculate the length of string\n",
    "string=\"Data is new oil\"\n",
    "print(len(string))"
   ]
  },
  {
   "cell_type": "code",
   "execution_count": 51,
   "id": "55a93847",
   "metadata": {},
   "outputs": [
    {
     "name": "stdout",
     "output_type": "stream",
     "text": [
      "2\n"
     ]
    }
   ],
   "source": [
    "# 2. Find the count of word \"data\".\n",
    "string=\"data is new oil hence data science is emerging field\"\n",
    "x=string.count(\"data\")\n",
    "print(x)"
   ]
  },
  {
   "cell_type": "code",
   "execution_count": 59,
   "id": "cb9a0469",
   "metadata": {},
   "outputs": [
    {
     "name": "stdout",
     "output_type": "stream",
     "text": [
      "ID\n"
     ]
    }
   ],
   "source": [
    "# 3. Using string slicing and step print result =\"IDA\"\n",
    "\n",
    "string = \"INDIA\"\n",
    "result = string[0:4:2]\n",
    "print(result)"
   ]
  },
  {
   "cell_type": "code",
   "execution_count": 60,
   "id": "48efcf17",
   "metadata": {},
   "outputs": [
    {
     "name": "stdout",
     "output_type": "stream",
     "text": [
      "Rahul is bad boy\n"
     ]
    }
   ],
   "source": [
    "# 4. Replace \"good\" with \"bad\"\n",
    "string = \"Rahul is good boy\"\n",
    "x=string.replace(\"good\",\"bad\")\n",
    "print(x)"
   ]
  },
  {
   "cell_type": "code",
   "execution_count": null,
   "id": "82c4e520",
   "metadata": {},
   "outputs": [],
   "source": [
    "# 5. Check if string starts with \"data\"\n",
    "string = \"data is new oil\"\n"
   ]
  },
  {
   "cell_type": "code",
   "execution_count": null,
   "id": "07931716",
   "metadata": {},
   "outputs": [],
   "source": [
    "# 6. print the starting index of \"boy\"\n",
    "string = \"Rahul is good boy\"\n"
   ]
  },
  {
   "cell_type": "code",
   "execution_count": 61,
   "id": "364e9c3d",
   "metadata": {},
   "outputs": [
    {
     "name": "stdout",
     "output_type": "stream",
     "text": [
      " data IS NEW oil\n"
     ]
    }
   ],
   "source": [
    "# 7. swape the upper case to lower case and lower case to upper case\n",
    "string = \" DATA is new OIL\"\n",
    "x=string.swapcase()\n",
    "\n",
    "print(x)"
   ]
  },
  {
   "cell_type": "code",
   "execution_count": 62,
   "id": "7313833d",
   "metadata": {},
   "outputs": [
    {
     "name": "stdout",
     "output_type": "stream",
     "text": [
      "['data/is/new/oil']\n"
     ]
    }
   ],
   "source": [
    "# 8. Split the sentence at every slash \"/\"\n",
    "string = \"data/is/new/oil\"\n",
    "x=string.split(\" \")\n",
    "print(x)"
   ]
  },
  {
   "cell_type": "markdown",
   "id": "5df58ec5",
   "metadata": {},
   "source": [
    "## LIST"
   ]
  },
  {
   "cell_type": "code",
   "execution_count": 1,
   "id": "09e8978b",
   "metadata": {},
   "outputs": [],
   "source": [
    "# 1. Replace element of list: Banana=> apple\n",
    "fruits=[\"Mango\",\"Banana\",\"Cherry\",\"Grapes\"]\n",
    "fruits[1]=\"Apple\""
   ]
  },
  {
   "cell_type": "code",
   "execution_count": 2,
   "id": "b1303331",
   "metadata": {},
   "outputs": [
    {
     "name": "stdout",
     "output_type": "stream",
     "text": [
      "['Mango', 'Apple', 'Cherry', 'Grapes']\n"
     ]
    }
   ],
   "source": [
    "print(fruits)"
   ]
  },
  {
   "cell_type": "code",
   "execution_count": 3,
   "id": "c05daa9b",
   "metadata": {},
   "outputs": [],
   "source": [
    "# 2. Appends Element to list\n",
    "fruits=[\"Mango\",\"Banana\",\"Cherry\",\"Grapes\"]\n",
    "fruits.append(\"Apple\")"
   ]
  },
  {
   "cell_type": "code",
   "execution_count": 4,
   "id": "af976184",
   "metadata": {},
   "outputs": [
    {
     "name": "stdout",
     "output_type": "stream",
     "text": [
      "['Mango', 'Banana', 'Cherry', 'Grapes', 'Apple']\n"
     ]
    }
   ],
   "source": [
    "print(fruits)"
   ]
  },
  {
   "cell_type": "code",
   "execution_count": 5,
   "id": "a28b14c9",
   "metadata": {},
   "outputs": [],
   "source": [
    "# 3. Extend element to list\n",
    "fruits=[\"Mango\",\"Banana\",\"Cherry\",\"Grapes\"]\n",
    "fruits.extend([\"Apple\",\"Kiwi\"])"
   ]
  },
  {
   "cell_type": "code",
   "execution_count": 6,
   "id": "2a0aadbd",
   "metadata": {},
   "outputs": [
    {
     "name": "stdout",
     "output_type": "stream",
     "text": [
      "['Mango', 'Banana', 'Cherry', 'Grapes', 'Apple', 'Kiwi']\n"
     ]
    }
   ],
   "source": [
    "print(fruits)"
   ]
  },
  {
   "cell_type": "code",
   "execution_count": 7,
   "id": "fbb1b140",
   "metadata": {},
   "outputs": [],
   "source": [
    "# 4. insert element to list\n",
    "fruits=[\"Mango\",\"Banana\",\"Cherry\",\"Grapes\"]\n",
    "fruits.insert(1,\"Apple\")\n"
   ]
  },
  {
   "cell_type": "code",
   "execution_count": 8,
   "id": "803555e6",
   "metadata": {},
   "outputs": [
    {
     "name": "stdout",
     "output_type": "stream",
     "text": [
      "['Mango', 'Apple', 'Banana', 'Cherry', 'Grapes']\n"
     ]
    }
   ],
   "source": [
    "print(fruits)"
   ]
  },
  {
   "cell_type": "code",
   "execution_count": 9,
   "id": "5f24d928",
   "metadata": {},
   "outputs": [],
   "source": [
    "# 5. remove element to list\n",
    "fruits=[\"Mango\",\"Banana\",\"Cherry\",\"Grapes\"]\n",
    "fruits.remove(\"Banana\")"
   ]
  },
  {
   "cell_type": "code",
   "execution_count": 10,
   "id": "b91bd45a",
   "metadata": {},
   "outputs": [
    {
     "name": "stdout",
     "output_type": "stream",
     "text": [
      "['Mango', 'Cherry', 'Grapes']\n"
     ]
    }
   ],
   "source": [
    "print(fruits)"
   ]
  },
  {
   "cell_type": "code",
   "execution_count": 11,
   "id": "c30a63e4",
   "metadata": {},
   "outputs": [
    {
     "data": {
      "text/plain": [
       "'Cherry'"
      ]
     },
     "execution_count": 11,
     "metadata": {},
     "output_type": "execute_result"
    }
   ],
   "source": [
    "# 6. pop element to list\n",
    "fruits=[\"Mango\",\"Banana\",\"Cherry\",\"Grapes\"]\n",
    "fruits.pop(2)"
   ]
  },
  {
   "cell_type": "code",
   "execution_count": null,
   "id": "32345aa3",
   "metadata": {},
   "outputs": [],
   "source": []
  }
 ],
 "metadata": {
  "kernelspec": {
   "display_name": "Python 3 (ipykernel)",
   "language": "python",
   "name": "python3"
  },
  "language_info": {
   "codemirror_mode": {
    "name": "ipython",
    "version": 3
   },
   "file_extension": ".py",
   "mimetype": "text/x-python",
   "name": "python",
   "nbconvert_exporter": "python",
   "pygments_lexer": "ipython3",
   "version": "3.9.12"
  }
 },
 "nbformat": 4,
 "nbformat_minor": 5
}
